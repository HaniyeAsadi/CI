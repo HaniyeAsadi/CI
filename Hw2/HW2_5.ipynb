{
 "cells": [
  {
   "cell_type": "code",
   "execution_count": 1,
   "metadata": {},
   "outputs": [],
   "source": [
    "import numpy as np"
   ]
  },
  {
   "cell_type": "markdown",
   "metadata": {},
   "source": [
    "## تعریف مقادیر ورودی و خروجی تابع XNOR"
   ]
  },
  {
   "cell_type": "code",
   "execution_count": 2,
   "metadata": {},
   "outputs": [],
   "source": [
    "X = np.array([[0, 0], [0, 1], [1, 0], [1, 1]])\n",
    "y = np.array([[1], [0], [0], [1]])"
   ]
  },
  {
   "cell_type": "markdown",
   "metadata": {},
   "source": [
    "## تعریف تابع فعال سازی"
   ]
  },
  {
   "cell_type": "markdown",
   "metadata": {},
   "source": [
    "#https://towardsdatascience.com/derivative-of-the-sigmoid-function-536880cf918e"
   ]
  },
  {
   "cell_type": "code",
   "execution_count": 3,
   "metadata": {},
   "outputs": [],
   "source": [
    "def sigmoid(x):\n",
    "    return 1 / (1 + np.exp(-x))\n",
    "\n",
    "def sigmoid_derivative(x):\n",
    "    return x * (1 - x)"
   ]
  },
  {
   "cell_type": "markdown",
   "metadata": {},
   "source": [
    "# learning rate- num of epochs\n"
   ]
  },
  {
   "cell_type": "code",
   "execution_count": 8,
   "metadata": {},
   "outputs": [],
   "source": [
    "input_size = 2\n",
    "hidden_size = 4\n",
    "output_size = 1\n",
    "\n",
    "learning_rate = 0.1\n",
    "epochs = 10000"
   ]
  },
  {
   "cell_type": "markdown",
   "metadata": {},
   "source": [
    "# تعریف وزن های لایه های ورودی و خروجی"
   ]
  },
  {
   "cell_type": "code",
   "execution_count": 9,
   "metadata": {},
   "outputs": [],
   "source": [
    "input_to_hidden_weights = np.random.uniform(size=(input_size, hidden_size))\n",
    "hidden_to_output_weights = np.random.uniform(size=(hidden_size, output_size))"
   ]
  },
  {
   "cell_type": "markdown",
   "metadata": {},
   "source": [
    "# یادگیری مدل"
   ]
  },
  {
   "cell_type": "code",
   "execution_count": 26,
   "metadata": {},
   "outputs": [
    {
     "name": "stdout",
     "output_type": "stream",
     "text": [
      "Epoch 1000: Error 0.012485528251761528\n",
      "Epoch 2000: Error 0.012434226213552724\n",
      "Epoch 3000: Error 0.012383569642458046\n",
      "Epoch 4000: Error 0.01233354530497737\n",
      "Epoch 5000: Error 0.012284140333275115\n",
      "Epoch 6000: Error 0.012235342212791763\n",
      "Epoch 7000: Error 0.012187138770340538\n",
      "Epoch 8000: Error 0.012139518162667168\n",
      "Epoch 9000: Error 0.012092468865455099\n",
      "Epoch 10000: Error 0.012045979662754388\n",
      "Output after training:\n",
      "[[0.98806666]\n",
      " [0.01207423]\n",
      " [0.01217652]\n",
      " [0.98800017]]\n"
     ]
    }
   ],
   "source": [
    "for epoch in range(epochs):\n",
    "    input_to_hidden_layer_input = np.dot(X, input_to_hidden_weights)\n",
    "    input_to_hidden_layer_output = sigmoid(input_to_hidden_layer_input)\n",
    "    hidden_to_output_layer_input = np.dot(input_to_hidden_layer_output, hidden_to_output_weights)\n",
    "    output = sigmoid(hidden_to_output_layer_input)\n",
    "\n",
    "    error = y - output\n",
    "\n",
    "    d_output = error * sigmoid_derivative(output)\n",
    "    error_hidden_layer = d_output.dot(hidden_to_output_weights.T)\n",
    "    d_hidden_layer = error_hidden_layer * sigmoid_derivative(input_to_hidden_layer_output)\n",
    "\n",
    "    hidden_to_output_weights += input_to_hidden_layer_output.T.dot(d_output) * learning_rate\n",
    "    input_to_hidden_weights += X.T.dot(d_hidden_layer) * learning_rate\n",
    "\n",
    "    if (epoch + 1) % 1000 == 0:\n",
    "        print(f\"Epoch {epoch + 1}: Error {np.mean(np.abs(error))}\")\n",
    "\n",
    "print(\"Output after training:\")\n",
    "print(output)"
   ]
  }
 ],
 "metadata": {
  "kernelspec": {
   "display_name": "Python 3",
   "language": "python",
   "name": "python3"
  },
  "language_info": {
   "codemirror_mode": {
    "name": "ipython",
    "version": 3
   },
   "file_extension": ".py",
   "mimetype": "text/x-python",
   "name": "python",
   "nbconvert_exporter": "python",
   "pygments_lexer": "ipython3",
   "version": "3.11.2"
  }
 },
 "nbformat": 4,
 "nbformat_minor": 2
}
