{
  "cells": [
    {
      "cell_type": "markdown",
      "metadata": {
        "id": "mqg4KSj_8Nz1"
      },
      "source": [
        "# In this notebook, we run an MLP model on dataset hoda and examine the results in terms of underfitting, fitting and overfitting."
      ]
    },
    {
      "cell_type": "markdown",
      "metadata": {
        "id": "IVk_5eoO76sj"
      },
      "source": [
        "## Download dataset"
      ]
    },
    {
      "cell_type": "code",
      "execution_count": 10,
      "metadata": {
        "colab": {
          "base_uri": "https://localhost:8080/"
        },
        "id": "TjoQGt01Ujx1",
        "outputId": "556f31e8-40c5-4b27-cd6b-29c6877d0a95"
      },
      "outputs": [
        {
          "output_type": "stream",
          "name": "stdout",
          "text": [
            "Downloading...\n",
            "From: https://drive.google.com/uc?id=1QJrQsEYOfPBn1LoIeYMZ2HFBRC0AY-6F\n",
            "To: /content/dataset.py\n",
            "100% 909/909 [00:00<00:00, 3.85MB/s]\n",
            "Downloading...\n",
            "From: https://drive.google.com/uc?id=1zStcaVl_34RrYIfVObuM4xzB6s8xwvBi\n",
            "To: /content/Data_hoda_full.mat\n",
            "100% 3.99M/3.99M [00:00<00:00, 77.8MB/s]\n"
          ]
        }
      ],
      "source": [
        "!gdown --fuzzy https://drive.google.com/file/d/1QJrQsEYOfPBn1LoIeYMZ2HFBRC0AY-6F/view?usp=sharing\n",
        "!gdown --fuzzy https://drive.google.com/file/d/1zStcaVl_34RrYIfVObuM4xzB6s8xwvBi/view?usp=sharing"
      ]
    },
    {
      "cell_type": "markdown",
      "metadata": {
        "id": "ruebTHNSBqRD"
      },
      "source": [
        "## Importing libraries"
      ]
    },
    {
      "cell_type": "code",
      "execution_count": 11,
      "metadata": {
        "id": "WhoXKRptiRDe"
      },
      "outputs": [],
      "source": [
        "import keras\n",
        "import numpy as np\n",
        "import matplotlib.pyplot as plt\n",
        "\n",
        "from keras.models import Sequential\n",
        "from keras.layers import Dense,  Activation\n",
        "from dataset import load_hoda"
      ]
    },
    {
      "cell_type": "markdown",
      "metadata": {
        "id": "ku75DKlg_f9y"
      },
      "source": [
        "# Load dataset"
      ]
    },
    {
      "cell_type": "code",
      "execution_count": 12,
      "metadata": {
        "id": "4D7VhBCKiVWl"
      },
      "outputs": [],
      "source": [
        "x_train_original, y_train_original, x_test_original, y_test_original = load_hoda()"
      ]
    },
    {
      "cell_type": "markdown",
      "metadata": {
        "id": "Wruhn4AmB5zC"
      },
      "source": [
        "### Converting x_train and x_test to ndarray array format and converting y_train and y_test to one-hot-encoding:\n",
        "####First, we have defined a simple function that prints the dimensions, data type and information of the loaded dataset. We will print this information before and after data preprocessing to notice the changes!"
      ]
    },
    {
      "cell_type": "code",
      "execution_count": 13,
      "metadata": {
        "id": "nbSZTm93iVb9"
      },
      "outputs": [],
      "source": [
        "# Preprocess input data for Keras.\n",
        "x_train = np.array(x_train_original)\n",
        "y_train = keras.utils.to_categorical(y_train_original, num_classes=10)\n",
        "x_test = np.array(x_test_original)\n",
        "y_test = keras.utils.to_categorical(y_test_original, num_classes=10)"
      ]
    },
    {
      "cell_type": "code",
      "execution_count": 14,
      "metadata": {
        "id": "u5Gvz63iiVZV"
      },
      "outputs": [],
      "source": [
        "def print_data_info(x_train, y_train, x_test, y_test):\n",
        "    #Check data Type\n",
        "    print (\"\\ttype(x_train): {}\".format(type(x_train)))\n",
        "    print (\"\\ttype(y_train): {}\".format(type(y_train)))\n",
        "\n",
        "    #check data Shape\n",
        "    print (\"\\tx_train.shape: {}\".format(np.shape(x_train)))\n",
        "    print (\"\\ty_train.shape: {}\".format(np.shape(y_train)))\n",
        "    print (\"\\tx_test.shape: {}\".format(np.shape(x_test)))\n",
        "    print (\"\\ty_test.shape: {}\".format(np.shape(y_test)))\n",
        "\n",
        "    #sample data\n",
        "    print (\"\\ty_train[0]: {}\".format(y_train[0]))"
      ]
    },
    {
      "cell_type": "code",
      "execution_count": 15,
      "metadata": {
        "colab": {
          "base_uri": "https://localhost:8080/"
        },
        "id": "0C5eJsmeiVe2",
        "outputId": "99d75e06-517c-4e15-e3a7-6ed7c7273b58"
      },
      "outputs": [
        {
          "output_type": "stream",
          "name": "stdout",
          "text": [
            "Before Preprocessing:\n",
            "\ttype(x_train): <class 'numpy.ndarray'>\n",
            "\ttype(y_train): <class 'numpy.ndarray'>\n",
            "\tx_train.shape: (1000, 25)\n",
            "\ty_train.shape: (1000,)\n",
            "\tx_test.shape: (200, 25)\n",
            "\ty_test.shape: (200,)\n",
            "\ty_train[0]: 6\n",
            "After Preprocessing:\n",
            "\ttype(x_train): <class 'numpy.ndarray'>\n",
            "\ttype(y_train): <class 'numpy.ndarray'>\n",
            "\tx_train.shape: (1000, 25)\n",
            "\ty_train.shape: (1000, 10)\n",
            "\tx_test.shape: (200, 25)\n",
            "\ty_test.shape: (200, 10)\n",
            "\ty_train[0]: [0. 0. 0. 0. 0. 0. 1. 0. 0. 0.]\n"
          ]
        }
      ],
      "source": [
        "print(\"Before Preprocessing:\")\n",
        "print_data_info(x_train_original, y_train_original, x_test_original, y_test_original)\n",
        "print(\"After Preprocessing:\")\n",
        "print_data_info(x_train, y_train, x_test, y_test)"
      ]
    },
    {
      "cell_type": "code",
      "execution_count": 16,
      "metadata": {
        "id": "ignnQ8cqidv_"
      },
      "outputs": [],
      "source": [
        "x_train = x_train.astype('float32')\n",
        "x_test = x_test.astype('float32')\n",
        "x_train /= 255\n",
        "x_test /= 255"
      ]
    },
    {
      "cell_type": "code",
      "execution_count": 17,
      "metadata": {
        "id": "cEQisVlqidyt"
      },
      "outputs": [],
      "source": [
        "# In this Create the model, input dim=25 and output dim = 10\n",
        "\n",
        "##################################\n",
        "# you code here\n",
        "##################################\n",
        "model = Sequential()\n",
        "\n",
        "model.add(Dense(units=64, input_dim=25, activation='relu'))\n",
        "\n",
        "model.add(Dense(units=64, activation='relu'))\n",
        "\n",
        "model.add(Dense(units=10, activation='softmax'))"
      ]
    },
    {
      "cell_type": "code",
      "execution_count": 18,
      "metadata": {
        "id": "gk4rIwjbid3W",
        "colab": {
          "base_uri": "https://localhost:8080/"
        },
        "outputId": "5a7ec7bc-c3f1-4131-f601-d0ee55128b20"
      },
      "outputs": [
        {
          "output_type": "stream",
          "name": "stdout",
          "text": [
            "Model: \"sequential_4\"\n",
            "_________________________________________________________________\n",
            " Layer (type)                Output Shape              Param #   \n",
            "=================================================================\n",
            " dense_8 (Dense)             (None, 64)                1664      \n",
            "                                                                 \n",
            " dense_9 (Dense)             (None, 64)                4160      \n",
            "                                                                 \n",
            " dense_10 (Dense)            (None, 10)                650       \n",
            "                                                                 \n",
            "=================================================================\n",
            "Total params: 6474 (25.29 KB)\n",
            "Trainable params: 6474 (25.29 KB)\n",
            "Non-trainable params: 0 (0.00 Byte)\n",
            "_________________________________________________________________\n"
          ]
        }
      ],
      "source": [
        "model.summary()"
      ]
    },
    {
      "cell_type": "markdown",
      "metadata": {
        "id": "XVBSerPdCxnL"
      },
      "source": [
        "## Compile model"
      ]
    },
    {
      "cell_type": "code",
      "execution_count": 19,
      "metadata": {
        "id": "ZJVfanv2id52"
      },
      "outputs": [],
      "source": [
        "# In this cell compile mode, set loss function and optimizer and get metrics accuracy\n",
        "\n",
        "##################################\n",
        "# you code here\n",
        "##################################\n",
        "model.compile(optimizer='adam', loss='categorical_crossentropy', metrics=['accuracy'])"
      ]
    },
    {
      "cell_type": "markdown",
      "metadata": {
        "id": "Uz92ZcWOJFFU"
      },
      "source": [
        "## Fit model"
      ]
    },
    {
      "cell_type": "code",
      "execution_count": 20,
      "metadata": {
        "id": "ZaKtROcxinbV",
        "colab": {
          "base_uri": "https://localhost:8080/"
        },
        "outputId": "29895b33-c4a3-410d-d979-930e7ccbdd39"
      },
      "outputs": [
        {
          "output_type": "stream",
          "name": "stdout",
          "text": [
            "Epoch 1/100\n",
            "16/16 [==============================] - 1s 23ms/step - loss: 2.1361 - accuracy: 0.2480 - val_loss: 2.0181 - val_accuracy: 0.4000\n",
            "Epoch 2/100\n",
            "16/16 [==============================] - 0s 6ms/step - loss: 1.8317 - accuracy: 0.5460 - val_loss: 1.7092 - val_accuracy: 0.6300\n",
            "Epoch 3/100\n",
            "16/16 [==============================] - 0s 8ms/step - loss: 1.4938 - accuracy: 0.6790 - val_loss: 1.3620 - val_accuracy: 0.7100\n",
            "Epoch 4/100\n",
            "16/16 [==============================] - 0s 6ms/step - loss: 1.1610 - accuracy: 0.7550 - val_loss: 1.0454 - val_accuracy: 0.7750\n",
            "Epoch 5/100\n",
            "16/16 [==============================] - 0s 6ms/step - loss: 0.8883 - accuracy: 0.8050 - val_loss: 0.8250 - val_accuracy: 0.8100\n",
            "Epoch 6/100\n",
            "16/16 [==============================] - 0s 6ms/step - loss: 0.7109 - accuracy: 0.8330 - val_loss: 0.6813 - val_accuracy: 0.8150\n",
            "Epoch 7/100\n",
            "16/16 [==============================] - 0s 6ms/step - loss: 0.5948 - accuracy: 0.8470 - val_loss: 0.5845 - val_accuracy: 0.8400\n",
            "Epoch 8/100\n",
            "16/16 [==============================] - 0s 6ms/step - loss: 0.5158 - accuracy: 0.8620 - val_loss: 0.5159 - val_accuracy: 0.8550\n",
            "Epoch 9/100\n",
            "16/16 [==============================] - 0s 7ms/step - loss: 0.4580 - accuracy: 0.8780 - val_loss: 0.4733 - val_accuracy: 0.8550\n",
            "Epoch 10/100\n",
            "16/16 [==============================] - 0s 7ms/step - loss: 0.4141 - accuracy: 0.8770 - val_loss: 0.4398 - val_accuracy: 0.8800\n",
            "Epoch 11/100\n",
            "16/16 [==============================] - 0s 7ms/step - loss: 0.3835 - accuracy: 0.8840 - val_loss: 0.4097 - val_accuracy: 0.8700\n",
            "Epoch 12/100\n",
            "16/16 [==============================] - 0s 6ms/step - loss: 0.3556 - accuracy: 0.8950 - val_loss: 0.3890 - val_accuracy: 0.8950\n",
            "Epoch 13/100\n",
            "16/16 [==============================] - 0s 7ms/step - loss: 0.3335 - accuracy: 0.8930 - val_loss: 0.3698 - val_accuracy: 0.9000\n",
            "Epoch 14/100\n",
            "16/16 [==============================] - 0s 6ms/step - loss: 0.3142 - accuracy: 0.9040 - val_loss: 0.3532 - val_accuracy: 0.9050\n",
            "Epoch 15/100\n",
            "16/16 [==============================] - 0s 4ms/step - loss: 0.2979 - accuracy: 0.9050 - val_loss: 0.3402 - val_accuracy: 0.9050\n",
            "Epoch 16/100\n",
            "16/16 [==============================] - 0s 4ms/step - loss: 0.2876 - accuracy: 0.9140 - val_loss: 0.3304 - val_accuracy: 0.9050\n",
            "Epoch 17/100\n",
            "16/16 [==============================] - 0s 4ms/step - loss: 0.2740 - accuracy: 0.9110 - val_loss: 0.3195 - val_accuracy: 0.9100\n",
            "Epoch 18/100\n",
            "16/16 [==============================] - 0s 4ms/step - loss: 0.2614 - accuracy: 0.9220 - val_loss: 0.3116 - val_accuracy: 0.9050\n",
            "Epoch 19/100\n",
            "16/16 [==============================] - 0s 4ms/step - loss: 0.2548 - accuracy: 0.9160 - val_loss: 0.3104 - val_accuracy: 0.9050\n",
            "Epoch 20/100\n",
            "16/16 [==============================] - 0s 5ms/step - loss: 0.2417 - accuracy: 0.9270 - val_loss: 0.2991 - val_accuracy: 0.9050\n",
            "Epoch 21/100\n",
            "16/16 [==============================] - 0s 4ms/step - loss: 0.2333 - accuracy: 0.9230 - val_loss: 0.3012 - val_accuracy: 0.9050\n",
            "Epoch 22/100\n",
            "16/16 [==============================] - 0s 4ms/step - loss: 0.2268 - accuracy: 0.9270 - val_loss: 0.2860 - val_accuracy: 0.9050\n",
            "Epoch 23/100\n",
            "16/16 [==============================] - 0s 5ms/step - loss: 0.2208 - accuracy: 0.9310 - val_loss: 0.2892 - val_accuracy: 0.9100\n",
            "Epoch 24/100\n",
            "16/16 [==============================] - 0s 5ms/step - loss: 0.2104 - accuracy: 0.9370 - val_loss: 0.2827 - val_accuracy: 0.9000\n",
            "Epoch 25/100\n",
            "16/16 [==============================] - 0s 5ms/step - loss: 0.2067 - accuracy: 0.9410 - val_loss: 0.2775 - val_accuracy: 0.9050\n",
            "Epoch 26/100\n",
            "16/16 [==============================] - 0s 5ms/step - loss: 0.1983 - accuracy: 0.9350 - val_loss: 0.2760 - val_accuracy: 0.9050\n",
            "Epoch 27/100\n",
            "16/16 [==============================] - 0s 5ms/step - loss: 0.1936 - accuracy: 0.9380 - val_loss: 0.2713 - val_accuracy: 0.9050\n",
            "Epoch 28/100\n",
            "16/16 [==============================] - 0s 4ms/step - loss: 0.1909 - accuracy: 0.9430 - val_loss: 0.2713 - val_accuracy: 0.9000\n",
            "Epoch 29/100\n",
            "16/16 [==============================] - 0s 4ms/step - loss: 0.1922 - accuracy: 0.9380 - val_loss: 0.2843 - val_accuracy: 0.9000\n",
            "Epoch 30/100\n",
            "16/16 [==============================] - 0s 4ms/step - loss: 0.1838 - accuracy: 0.9440 - val_loss: 0.2653 - val_accuracy: 0.9000\n",
            "Epoch 31/100\n",
            "16/16 [==============================] - 0s 5ms/step - loss: 0.1817 - accuracy: 0.9470 - val_loss: 0.2605 - val_accuracy: 0.9050\n",
            "Epoch 32/100\n",
            "16/16 [==============================] - 0s 4ms/step - loss: 0.1769 - accuracy: 0.9470 - val_loss: 0.2616 - val_accuracy: 0.9050\n",
            "Epoch 33/100\n",
            "16/16 [==============================] - 0s 4ms/step - loss: 0.1693 - accuracy: 0.9480 - val_loss: 0.2594 - val_accuracy: 0.9050\n",
            "Epoch 34/100\n",
            "16/16 [==============================] - 0s 5ms/step - loss: 0.1595 - accuracy: 0.9560 - val_loss: 0.2612 - val_accuracy: 0.9150\n",
            "Epoch 35/100\n",
            "16/16 [==============================] - 0s 4ms/step - loss: 0.1555 - accuracy: 0.9590 - val_loss: 0.2533 - val_accuracy: 0.9100\n",
            "Epoch 36/100\n",
            "16/16 [==============================] - 0s 4ms/step - loss: 0.1544 - accuracy: 0.9540 - val_loss: 0.2534 - val_accuracy: 0.9100\n",
            "Epoch 37/100\n",
            "16/16 [==============================] - 0s 5ms/step - loss: 0.1545 - accuracy: 0.9540 - val_loss: 0.2639 - val_accuracy: 0.9050\n",
            "Epoch 38/100\n",
            "16/16 [==============================] - 0s 4ms/step - loss: 0.1495 - accuracy: 0.9540 - val_loss: 0.2572 - val_accuracy: 0.9200\n",
            "Epoch 39/100\n",
            "16/16 [==============================] - 0s 5ms/step - loss: 0.1427 - accuracy: 0.9590 - val_loss: 0.2531 - val_accuracy: 0.9100\n",
            "Epoch 40/100\n",
            "16/16 [==============================] - 0s 4ms/step - loss: 0.1401 - accuracy: 0.9610 - val_loss: 0.2645 - val_accuracy: 0.9050\n",
            "Epoch 41/100\n",
            "16/16 [==============================] - 0s 5ms/step - loss: 0.1403 - accuracy: 0.9590 - val_loss: 0.2527 - val_accuracy: 0.9200\n",
            "Epoch 42/100\n",
            "16/16 [==============================] - 0s 4ms/step - loss: 0.1327 - accuracy: 0.9640 - val_loss: 0.2538 - val_accuracy: 0.9150\n",
            "Epoch 43/100\n",
            "16/16 [==============================] - 0s 5ms/step - loss: 0.1310 - accuracy: 0.9590 - val_loss: 0.2521 - val_accuracy: 0.9250\n",
            "Epoch 44/100\n",
            "16/16 [==============================] - 0s 5ms/step - loss: 0.1266 - accuracy: 0.9610 - val_loss: 0.2519 - val_accuracy: 0.9250\n",
            "Epoch 45/100\n",
            "16/16 [==============================] - 0s 4ms/step - loss: 0.1246 - accuracy: 0.9680 - val_loss: 0.2438 - val_accuracy: 0.9250\n",
            "Epoch 46/100\n",
            "16/16 [==============================] - 0s 5ms/step - loss: 0.1188 - accuracy: 0.9710 - val_loss: 0.2453 - val_accuracy: 0.9300\n",
            "Epoch 47/100\n",
            "16/16 [==============================] - 0s 5ms/step - loss: 0.1198 - accuracy: 0.9660 - val_loss: 0.2524 - val_accuracy: 0.9250\n",
            "Epoch 48/100\n",
            "16/16 [==============================] - 0s 4ms/step - loss: 0.1136 - accuracy: 0.9730 - val_loss: 0.2475 - val_accuracy: 0.9300\n",
            "Epoch 49/100\n",
            "16/16 [==============================] - 0s 4ms/step - loss: 0.1134 - accuracy: 0.9710 - val_loss: 0.2453 - val_accuracy: 0.9300\n",
            "Epoch 50/100\n",
            "16/16 [==============================] - 0s 5ms/step - loss: 0.1094 - accuracy: 0.9690 - val_loss: 0.2495 - val_accuracy: 0.9250\n",
            "Epoch 51/100\n",
            "16/16 [==============================] - 0s 4ms/step - loss: 0.1093 - accuracy: 0.9720 - val_loss: 0.2424 - val_accuracy: 0.9250\n",
            "Epoch 52/100\n",
            "16/16 [==============================] - 0s 5ms/step - loss: 0.1065 - accuracy: 0.9730 - val_loss: 0.2524 - val_accuracy: 0.9250\n",
            "Epoch 53/100\n",
            "16/16 [==============================] - 0s 5ms/step - loss: 0.1020 - accuracy: 0.9780 - val_loss: 0.2446 - val_accuracy: 0.9250\n",
            "Epoch 54/100\n",
            "16/16 [==============================] - 0s 5ms/step - loss: 0.0997 - accuracy: 0.9770 - val_loss: 0.2518 - val_accuracy: 0.9300\n",
            "Epoch 55/100\n",
            "16/16 [==============================] - 0s 4ms/step - loss: 0.1015 - accuracy: 0.9760 - val_loss: 0.2449 - val_accuracy: 0.9250\n",
            "Epoch 56/100\n",
            "16/16 [==============================] - 0s 4ms/step - loss: 0.0950 - accuracy: 0.9780 - val_loss: 0.2459 - val_accuracy: 0.9200\n",
            "Epoch 57/100\n",
            "16/16 [==============================] - 0s 4ms/step - loss: 0.0922 - accuracy: 0.9800 - val_loss: 0.2456 - val_accuracy: 0.9300\n",
            "Epoch 58/100\n",
            "16/16 [==============================] - 0s 5ms/step - loss: 0.0894 - accuracy: 0.9790 - val_loss: 0.2488 - val_accuracy: 0.9300\n",
            "Epoch 59/100\n",
            "16/16 [==============================] - 0s 5ms/step - loss: 0.0901 - accuracy: 0.9780 - val_loss: 0.2477 - val_accuracy: 0.9250\n",
            "Epoch 60/100\n",
            "16/16 [==============================] - 0s 4ms/step - loss: 0.0859 - accuracy: 0.9820 - val_loss: 0.2478 - val_accuracy: 0.9300\n",
            "Epoch 61/100\n",
            "16/16 [==============================] - 0s 5ms/step - loss: 0.0834 - accuracy: 0.9820 - val_loss: 0.2451 - val_accuracy: 0.9300\n",
            "Epoch 62/100\n",
            "16/16 [==============================] - 0s 5ms/step - loss: 0.0841 - accuracy: 0.9800 - val_loss: 0.2478 - val_accuracy: 0.9250\n",
            "Epoch 63/100\n",
            "16/16 [==============================] - 0s 5ms/step - loss: 0.0832 - accuracy: 0.9840 - val_loss: 0.2476 - val_accuracy: 0.9300\n",
            "Epoch 64/100\n",
            "16/16 [==============================] - 0s 4ms/step - loss: 0.0791 - accuracy: 0.9840 - val_loss: 0.2508 - val_accuracy: 0.9300\n",
            "Epoch 65/100\n",
            "16/16 [==============================] - 0s 4ms/step - loss: 0.0782 - accuracy: 0.9750 - val_loss: 0.2437 - val_accuracy: 0.9200\n",
            "Epoch 66/100\n",
            "16/16 [==============================] - 0s 5ms/step - loss: 0.0760 - accuracy: 0.9850 - val_loss: 0.2474 - val_accuracy: 0.9300\n",
            "Epoch 67/100\n",
            "16/16 [==============================] - 0s 5ms/step - loss: 0.0759 - accuracy: 0.9810 - val_loss: 0.2438 - val_accuracy: 0.9250\n",
            "Epoch 68/100\n",
            "16/16 [==============================] - 0s 5ms/step - loss: 0.0721 - accuracy: 0.9840 - val_loss: 0.2465 - val_accuracy: 0.9300\n",
            "Epoch 69/100\n",
            "16/16 [==============================] - 0s 5ms/step - loss: 0.0721 - accuracy: 0.9870 - val_loss: 0.2454 - val_accuracy: 0.9250\n",
            "Epoch 70/100\n",
            "16/16 [==============================] - 0s 5ms/step - loss: 0.0713 - accuracy: 0.9820 - val_loss: 0.2447 - val_accuracy: 0.9300\n",
            "Epoch 71/100\n",
            "16/16 [==============================] - 0s 4ms/step - loss: 0.0695 - accuracy: 0.9830 - val_loss: 0.2454 - val_accuracy: 0.9300\n",
            "Epoch 72/100\n",
            "16/16 [==============================] - 0s 5ms/step - loss: 0.0667 - accuracy: 0.9870 - val_loss: 0.2517 - val_accuracy: 0.9200\n",
            "Epoch 73/100\n",
            "16/16 [==============================] - 0s 5ms/step - loss: 0.0667 - accuracy: 0.9860 - val_loss: 0.2499 - val_accuracy: 0.9250\n",
            "Epoch 74/100\n",
            "16/16 [==============================] - 0s 4ms/step - loss: 0.0656 - accuracy: 0.9840 - val_loss: 0.2588 - val_accuracy: 0.9200\n",
            "Epoch 75/100\n",
            "16/16 [==============================] - 0s 4ms/step - loss: 0.0645 - accuracy: 0.9860 - val_loss: 0.2445 - val_accuracy: 0.9200\n",
            "Epoch 76/100\n",
            "16/16 [==============================] - 0s 6ms/step - loss: 0.0621 - accuracy: 0.9870 - val_loss: 0.2500 - val_accuracy: 0.9250\n",
            "Epoch 77/100\n",
            "16/16 [==============================] - 0s 4ms/step - loss: 0.0595 - accuracy: 0.9890 - val_loss: 0.2468 - val_accuracy: 0.9300\n",
            "Epoch 78/100\n",
            "16/16 [==============================] - 0s 4ms/step - loss: 0.0574 - accuracy: 0.9900 - val_loss: 0.2476 - val_accuracy: 0.9300\n",
            "Epoch 79/100\n",
            "16/16 [==============================] - 0s 5ms/step - loss: 0.0590 - accuracy: 0.9880 - val_loss: 0.2518 - val_accuracy: 0.9300\n",
            "Epoch 80/100\n",
            "16/16 [==============================] - 0s 5ms/step - loss: 0.0569 - accuracy: 0.9900 - val_loss: 0.2434 - val_accuracy: 0.9300\n",
            "Epoch 81/100\n",
            "16/16 [==============================] - 0s 5ms/step - loss: 0.0552 - accuracy: 0.9900 - val_loss: 0.2515 - val_accuracy: 0.9350\n",
            "Epoch 82/100\n",
            "16/16 [==============================] - 0s 5ms/step - loss: 0.0559 - accuracy: 0.9880 - val_loss: 0.2434 - val_accuracy: 0.9200\n",
            "Epoch 83/100\n",
            "16/16 [==============================] - 0s 4ms/step - loss: 0.0523 - accuracy: 0.9880 - val_loss: 0.2526 - val_accuracy: 0.9350\n",
            "Epoch 84/100\n",
            "16/16 [==============================] - 0s 4ms/step - loss: 0.0511 - accuracy: 0.9900 - val_loss: 0.2473 - val_accuracy: 0.9350\n",
            "Epoch 85/100\n",
            "16/16 [==============================] - 0s 5ms/step - loss: 0.0495 - accuracy: 0.9910 - val_loss: 0.2507 - val_accuracy: 0.9250\n",
            "Epoch 86/100\n",
            "16/16 [==============================] - 0s 5ms/step - loss: 0.0494 - accuracy: 0.9900 - val_loss: 0.2495 - val_accuracy: 0.9350\n",
            "Epoch 87/100\n",
            "16/16 [==============================] - 0s 4ms/step - loss: 0.0481 - accuracy: 0.9900 - val_loss: 0.2463 - val_accuracy: 0.9350\n",
            "Epoch 88/100\n",
            "16/16 [==============================] - 0s 4ms/step - loss: 0.0479 - accuracy: 0.9910 - val_loss: 0.2529 - val_accuracy: 0.9250\n",
            "Epoch 89/100\n",
            "16/16 [==============================] - 0s 4ms/step - loss: 0.0464 - accuracy: 0.9930 - val_loss: 0.2550 - val_accuracy: 0.9350\n",
            "Epoch 90/100\n",
            "16/16 [==============================] - 0s 4ms/step - loss: 0.0466 - accuracy: 0.9910 - val_loss: 0.2485 - val_accuracy: 0.9200\n",
            "Epoch 91/100\n",
            "16/16 [==============================] - 0s 5ms/step - loss: 0.0440 - accuracy: 0.9890 - val_loss: 0.2575 - val_accuracy: 0.9250\n",
            "Epoch 92/100\n",
            "16/16 [==============================] - 0s 4ms/step - loss: 0.0434 - accuracy: 0.9910 - val_loss: 0.2519 - val_accuracy: 0.9350\n",
            "Epoch 93/100\n",
            "16/16 [==============================] - 0s 5ms/step - loss: 0.0418 - accuracy: 0.9920 - val_loss: 0.2501 - val_accuracy: 0.9300\n",
            "Epoch 94/100\n",
            "16/16 [==============================] - 0s 5ms/step - loss: 0.0419 - accuracy: 0.9920 - val_loss: 0.2524 - val_accuracy: 0.9300\n",
            "Epoch 95/100\n",
            "16/16 [==============================] - 0s 5ms/step - loss: 0.0396 - accuracy: 0.9910 - val_loss: 0.2492 - val_accuracy: 0.9300\n",
            "Epoch 96/100\n",
            "16/16 [==============================] - 0s 4ms/step - loss: 0.0405 - accuracy: 0.9930 - val_loss: 0.2507 - val_accuracy: 0.9300\n",
            "Epoch 97/100\n",
            "16/16 [==============================] - 0s 4ms/step - loss: 0.0387 - accuracy: 0.9920 - val_loss: 0.2530 - val_accuracy: 0.9250\n",
            "Epoch 98/100\n",
            "16/16 [==============================] - 0s 4ms/step - loss: 0.0385 - accuracy: 0.9920 - val_loss: 0.2526 - val_accuracy: 0.9300\n",
            "Epoch 99/100\n",
            "16/16 [==============================] - 0s 5ms/step - loss: 0.0366 - accuracy: 0.9940 - val_loss: 0.2522 - val_accuracy: 0.9300\n",
            "Epoch 100/100\n",
            "16/16 [==============================] - 0s 4ms/step - loss: 0.0379 - accuracy: 0.9930 - val_loss: 0.2564 - val_accuracy: 0.9300\n"
          ]
        }
      ],
      "source": [
        "MLP_model = model.fit(x_train, y_train,\n",
        "          epochs=100,\n",
        "          batch_size=64, validation_data=(x_test, y_test))"
      ]
    },
    {
      "cell_type": "code",
      "execution_count": 21,
      "metadata": {
        "colab": {
          "base_uri": "https://localhost:8080/",
          "height": 447
        },
        "id": "SveCNiLkisTF",
        "outputId": "9a30e4a7-099e-476b-f1b8-d1213ce0dc47"
      },
      "outputs": [
        {
          "output_type": "execute_result",
          "data": {
            "text/plain": [
              "[<matplotlib.lines.Line2D at 0x7c45573997b0>]"
            ]
          },
          "metadata": {},
          "execution_count": 21
        },
        {
          "output_type": "display_data",
          "data": {
            "text/plain": [
              "<Figure size 640x480 with 1 Axes>"
            ],
            "image/png": "[encoded data removed]"
          },
          "metadata": {}
        }
      ],
      "source": [
        "# plot Loss\n",
        "plt.plot(MLP_model.history[\"loss\"])\n",
        "plt.plot(MLP_model.history[\"val_loss\"])"
      ]
    },
    {
      "cell_type": "code",
      "execution_count": 22,
      "metadata": {
        "colab": {
          "base_uri": "https://localhost:8080/",
          "height": 447
        },
        "id": "Cx3VubunisVh",
        "outputId": "aefba9ca-3614-4ed9-d627-ae0a382f5930"
      },
      "outputs": [
        {
          "output_type": "execute_result",
          "data": {
            "text/plain": [
              "[<matplotlib.lines.Line2D at 0x7c4557711c60>]"
            ]
          },
          "metadata": {},
          "execution_count": 22
        },
        {
          "output_type": "display_data",
          "data": {
            "text/plain": [
              "<Figure size 640x480 with 1 Axes>"
            ],
            "image/png": "[encoded data removed]"
          },
          "metadata": {}
        }
      ],
      "source": [
        "# plot accuracy\n",
        "plt.plot(MLP_model.history[\"accuracy\"])\n",
        "plt.plot(MLP_model.history[\"val_accuracy\"])"
      ]
    },
    {
      "cell_type": "code",
      "source": [
        "import tensorflow as tf\n",
        "from tensorflow import keras\n",
        "import matplotlib.pyplot as plt\n",
        "\n",
        "# دریافت دیتاست MNIST\n",
        "mnist = keras.datasets.mnist\n",
        "(train_images, train_labels), (test_images, test_labels) = mnist.load_data()\n",
        "\n",
        "# پیش‌پردازش داده‌ها\n",
        "train_images, test_images = train_images / 255.0, test_images / 255.0\n",
        "\n",
        "# ایجاد مدل MLP\n",
        "model = keras.models.Sequential([\n",
        "    keras.layers.Flatten(input_shape=(28, 28)),  # لایه ورودی\n",
        "    keras.layers.Dense(128, activation='relu'),    # لایه پنهان 1\n",
        "    keras.layers.Dropout(0.2),                    # لایه dropout جلوگیری از بیش‌برازش\n",
        "    keras.layers.Dense(10, activation='softmax')   # لایه خروجی با توجه به 10 کلاس دسته‌بندی\n",
        "])\n",
        "\n",
        "# کامپایل مدل\n",
        "model.compile(optimizer='adam',\n",
        "              loss='sparse_categorical_crossentropy',\n",
        "              metrics=['accuracy'])\n",
        "\n",
        "# آموزش مدل\n",
        "history = model.fit(train_images, train_labels, epochs=10, validation_data=(test_images, test_labels))\n",
        "\n",
        "# نمایش نمودارهای Loss و Accuracy\n",
        "plt.figure(figsize=(12, 4))\n",
        "plt.subplot(1, 2, 1)\n",
        "plt.plot(history.history['loss'], label='Loss')\n",
        "plt.plot(history.history['val_loss'], label='Validation Loss')\n",
        "plt.legend()\n",
        "plt.xlabel('Epochs')\n",
        "plt.ylabel('Loss')\n",
        "\n",
        "plt.subplot(1, 2, 2)\n",
        "plt.plot(history.history['accuracy'], label='Accuracy')\n",
        "plt.plot(history.history['val_accuracy'], label='Validation Accuracy')\n",
        "plt.legend()\n",
        "plt.xlabel('Epochs')\n",
        "plt.ylabel('Accuracy')\n",
        "\n",
        "plt.show()\n",
        "\n",
        "# ارزیابی مدل\n",
        "test_loss, test_acc = model.evaluate(test_images,  test_labels, verbose=2)\n",
        "print(f\"Test accuracy: {test_acc*100:.2f}%\")\n"
      ],
      "metadata": {
        "colab": {
          "base_uri": "https://localhost:8080/",
          "height": 770
        },
        "id": "pbCo-NFU1Fe5",
        "outputId": "351d6f35-b4d0-40f4-f34d-49e8567bde4d"
      },
      "execution_count": 23,
      "outputs": [
        {
          "output_type": "stream",
          "name": "stdout",
          "text": [
            "Epoch 1/10\n",
            "1875/1875 [==============================] - 8s 4ms/step - loss: 0.2976 - accuracy: 0.9137 - val_loss: 0.1428 - val_accuracy: 0.9576\n",
            "Epoch 2/10\n",
            "1875/1875 [==============================] - 8s 4ms/step - loss: 0.1460 - accuracy: 0.9566 - val_loss: 0.1112 - val_accuracy: 0.9643\n",
            "Epoch 3/10\n",
            "1875/1875 [==============================] - 6s 3ms/step - loss: 0.1073 - accuracy: 0.9678 - val_loss: 0.0832 - val_accuracy: 0.9729\n",
            "Epoch 4/10\n",
            "1875/1875 [==============================] - 8s 4ms/step - loss: 0.0893 - accuracy: 0.9721 - val_loss: 0.0790 - val_accuracy: 0.9736\n",
            "Epoch 5/10\n",
            "1875/1875 [==============================] - 8s 4ms/step - loss: 0.0788 - accuracy: 0.9756 - val_loss: 0.0730 - val_accuracy: 0.9770\n",
            "Epoch 6/10\n",
            "1875/1875 [==============================] - 8s 4ms/step - loss: 0.0673 - accuracy: 0.9780 - val_loss: 0.0730 - val_accuracy: 0.9777\n",
            "Epoch 7/10\n",
            "1875/1875 [==============================] - 8s 4ms/step - loss: 0.0581 - accuracy: 0.9810 - val_loss: 0.0695 - val_accuracy: 0.9795\n",
            "Epoch 8/10\n",
            "1875/1875 [==============================] - 7s 4ms/step - loss: 0.0531 - accuracy: 0.9827 - val_loss: 0.0742 - val_accuracy: 0.9769\n",
            "Epoch 9/10\n",
            "1875/1875 [==============================] - 9s 5ms/step - loss: 0.0487 - accuracy: 0.9834 - val_loss: 0.0694 - val_accuracy: 0.9792\n",
            "Epoch 10/10\n",
            "1875/1875 [==============================] - 8s 4ms/step - loss: 0.0452 - accuracy: 0.9851 - val_loss: 0.0693 - val_accuracy: 0.9790\n"
          ]
        },
        {
          "output_type": "display_data",
          "data": {
            "text/plain": [
              "<Figure size 1200x400 with 2 Axes>"
            ],
            "image/png": "[encoded data removed]"
          },
          "metadata": {}
        },
        {
          "output_type": "stream",
          "name": "stdout",
          "text": [
            "313/313 - 0s - loss: 0.0693 - accuracy: 0.9790 - 477ms/epoch - 2ms/step\n",
            "Test accuracy: 97.90%\n"
          ]
        }
      ]
    },
    {
      "cell_type": "code",
      "source": [
        "import numpy as np\n",
        "\n",
        "# تعریف توابع فعال‌ساز (مثلاً سیگموئید)\n",
        "def sigmoid(x):\n",
        "    return 1 / (1 + np.exp(-x))\n",
        "\n",
        "def sigmoid_derivative(x):\n",
        "    return x * (1 - x)\n",
        "\n",
        "# داده‌های ورودی و خروجی XNOR\n",
        "X = np.array([[0, 0], [0, 1], [1, 0], [1, 1]])\n",
        "y = np.array([[1], [0], [0], [1]])\n",
        "\n",
        "# تعیین اندازه‌های لایه‌ها\n",
        "input_size = 2\n",
        "hidden_size = 4\n",
        "output_size = 1\n",
        "\n",
        "# تعیین نرخ یادگیری و تعداد تکرارها\n",
        "learning_rate = 0.1\n",
        "epochs = 10000\n",
        "\n",
        "# تعیین وزن‌ها به صورت تصادفی\n",
        "input_to_hidden_weights = np.random.uniform(size=(input_size, hidden_size))\n",
        "hidden_to_output_weights = np.random.uniform(size=(hidden_size, output_size))\n",
        "\n",
        "# آموزش مدل\n",
        "for epoch in range(epochs):\n",
        "    # مرحله فرورگیری (forward pass)\n",
        "    input_to_hidden_layer_input = np.dot(X, input_to_hidden_weights)\n",
        "    input_to_hidden_layer_output = sigmoid(input_to_hidden_layer_input)\n",
        "    hidden_to_output_layer_input = np.dot(input_to_hidden_layer_output, hidden_to_output_weights)\n",
        "    output = sigmoid(hidden_to_output_layer_input)\n",
        "\n",
        "    # محاسبه خطا\n",
        "    error = y - output\n",
        "\n",
        "    # مرحله پس‌گردانی (backward pass)\n",
        "    d_output = error * sigmoid_derivative(output)\n",
        "    error_hidden_layer = d_output.dot(hidden_to_output_weights.T)\n",
        "    d_hidden_layer = error_hidden_layer * sigmoid_derivative(input_to_hidden_layer_output)\n",
        "\n",
        "    # به‌روزرسانی وزن‌ها\n",
        "    hidden_to_output_weights += input_to_hidden_layer_output.T.dot(d_output) * learning_rate\n",
        "    input_to_hidden_weights += X.T.dot(d_hidden_layer) * learning_rate\n",
        "\n",
        "    if (epoch + 1) % 1000 == 0:\n",
        "        print(f\"Epoch {epoch + 1}: Error {np.mean(np.abs(error))}\")\n",
        "\n",
        "# نمایش خروجی بعد از آموزش\n",
        "print(\"Output after training:\")\n",
        "print(output)\n"
      ],
      "metadata": {
        "colab": {
          "base_uri": "https://localhost:8080/"
        },
        "id": "SCEHl_sozVpz",
        "outputId": "44b81966-6ea2-4260-c2ed-47d35ef60c2a"
      },
      "execution_count": 24,
      "outputs": [
        {
          "output_type": "stream",
          "name": "stdout",
          "text": [
            "Epoch 1000: Error 0.4984799190455498\n",
            "Epoch 2000: Error 0.4834394840352363\n",
            "Epoch 3000: Error 0.4212162243357436\n",
            "Epoch 4000: Error 0.33956159805674935\n",
            "Epoch 5000: Error 0.22132368394086174\n",
            "Epoch 6000: Error 0.15498380786388216\n",
            "Epoch 7000: Error 0.12271931778158746\n",
            "Epoch 8000: Error 0.10379895813649956\n",
            "Epoch 9000: Error 0.09119018708815575\n",
            "Epoch 10000: Error 0.08207156208171332\n",
            "Output after training:\n",
            "[[0.90524611]\n",
            " [0.08091313]\n",
            " [0.08030634]\n",
            " [0.92768711]]\n"
          ]
        }
      ]
    }
  ],
  "metadata": {
    "colab": {
      "provenance": [],
      "toc_visible": true
    },
    "kernelspec": {
      "display_name": "Python 3",
      "name": "python3"
    },
    "language_info": {
      "name": "python"
    }
  },
  "nbformat": 4,
  "nbformat_minor": 0
}