{
 "cells": [
  {
   "cell_type": "code",
   "execution_count": 1,
   "metadata": {},
   "outputs": [],
   "source": [
    "import numpy as np"
   ]
  },
  {
   "cell_type": "markdown",
   "metadata": {},
   "source": [
    "# Q1"
   ]
  },
  {
   "cell_type": "code",
   "execution_count": null,
   "metadata": {},
   "outputs": [],
   "source": [
    "##https://stackoverflow.com/questions/28430904/set-numpy-array-elements-to-zero-if-they-are-above-a-specific-threshold"
   ]
  },
  {
   "cell_type": "code",
   "execution_count": 4,
   "metadata": {},
   "outputs": [],
   "source": [
    "def element_wise_comparison(array1, array2):\n",
    "    \"\"\"\n",
    "    Perform element-wise comparisons between two NumPy arrays.\n",
    "\n",
    "    Parameters:\n",
    "    - array1 (numpy.ndarray): First input NumPy array.\n",
    "    - array2 (numpy.ndarray): Second input NumPy array.\n",
    "\n",
    "    Returns:\n",
    "    - tuple: A tuple of NumPy arrays containing the following element-wise comparison results:\n",
    "        - greater_result (numpy.ndarray): Element-wise greater than comparison.\n",
    "        - greater_equal_result (numpy.ndarray): Element-wise greater than or equal to comparison.\n",
    "        - less_result (numpy.ndarray): Element-wise less than comparison.\n",
    "        - less_equal_result (numpy.ndarray): Element-wise less than or equal to comparison.\n",
    "    \"\"\"\n",
    "    \n",
    "    # ------------\n",
    "    # FILL THIS IN\n",
    "    greater_result = np.where(array1 > array2, \"True\", \"False\")\n",
    "    greater_equal_result = np.where(array1 >= array2, \"True\", \"False\")\n",
    "    less_result = np.where(array1 < array2, \"True\", \"False\")\n",
    "    less_equal_result = np.where(array1 <= array2, \"True\", \"False\")\n",
    "    # ------------\n",
    "\n",
    "    return greater_result, greater_equal_result, less_result, less_equal_result"
   ]
  },
  {
   "cell_type": "code",
   "execution_count": 5,
   "metadata": {},
   "outputs": [
    {
     "name": "stdout",
     "output_type": "stream",
     "text": [
      "Greater than:\n",
      "[['False' 'False']\n",
      " ['True' 'True']]\n",
      "\n",
      "Greater than or equal to:\n",
      "[['True' 'True']\n",
      " ['True' 'True']]\n",
      "\n",
      "Less than:\n",
      "[['False' 'False']\n",
      " ['False' 'False']]\n",
      "\n",
      "Less than or equal to:\n",
      "[['True' 'True']\n",
      " ['False' 'False']]\n"
     ]
    }
   ],
   "source": [
    "array1 = np.array([[1, 2], [3, 4]])\n",
    "array2 = np.array([[1, 2], [2, 3]])\n",
    "\n",
    "greater, greater_equal, less, less_equal = element_wise_comparison(array1, array2)\n",
    "\n",
    "print(\"Greater than:\")\n",
    "print(greater)\n",
    "print(\"\\nGreater than or equal to:\")\n",
    "print(greater_equal)\n",
    "print(\"\\nLess than:\")\n",
    "print(less)\n",
    "print(\"\\nLess than or equal to:\")\n",
    "print(less_equal)"
   ]
  },
  {
   "cell_type": "markdown",
   "metadata": {},
   "source": [
    "# Q2"
   ]
  },
  {
   "cell_type": "code",
   "execution_count": null,
   "metadata": {},
   "outputs": [],
   "source": [
    "#https://numpy.org/doc/stable/reference/generated/numpy.matmul.html\n",
    "#https://www.educative.io/blog/numpy-matrix-multiplication"
   ]
  },
  {
   "cell_type": "code",
   "execution_count": 4,
   "metadata": {},
   "outputs": [],
   "source": [
    "def array_multiply(array1, array2, method=\"element-wise\"):\n",
    "    \"\"\"\n",
    "    Perform multiplication between two NumPy arrays using the specified method.\n",
    "\n",
    "    Parameters:\n",
    "    - array1 (numpy.ndarray): First input NumPy array.\n",
    "    - array2 (numpy.ndarray): Second input NumPy array.\n",
    "    - method (str, optional): The multiplication method to use. Defaults to \"element-wise\".\n",
    "\n",
    "    Returns:\n",
    "    - numpy.ndarray: The result of the multiplication operation based on the chosen method.\n",
    "    \"\"\"\n",
    "    # ------------\n",
    "    # FILL THIS IN\n",
    "    if method == \"matrix-multiply\":\n",
    "        result = np.matmul(array1, array2)\n",
    "    else:\n",
    "        result = np.multiply(array1, array2)\n",
    "        # result = array1 * array2\n",
    "    # ------------\n",
    "\n",
    "    return result"
   ]
  },
  {
   "cell_type": "code",
   "execution_count": 5,
   "metadata": {},
   "outputs": [
    {
     "name": "stdout",
     "output_type": "stream",
     "text": [
      "Element-wise multiplication:\n",
      "[[2 0]\n",
      " [3 8]]\n",
      "\n",
      "Matrix multiplication:\n",
      "[[ 4  4]\n",
      " [10  8]]\n"
     ]
    }
   ],
   "source": [
    "array1 = np.array([[1, 2], [3, 4]])\n",
    "array2 = np.array([[2, 0], [1, 2]])\n",
    "\n",
    "# Perform element-wise multiplication\n",
    "element_wise_result = array_multiply(array1, array2, method=\"element-wise\")\n",
    "print(\"Element-wise multiplication:\")\n",
    "print(element_wise_result)\n",
    "\n",
    "# Perform matrix multiplication\n",
    "matrix_multiply_result = array_multiply(array1, array2, method=\"matrix-multiply\")\n",
    "print(\"\\nMatrix multiplication:\")\n",
    "print(matrix_multiply_result)"
   ]
  },
  {
   "cell_type": "markdown",
   "metadata": {},
   "source": [
    "# Q3"
   ]
  },
  {
   "cell_type": "code",
   "execution_count": 8,
   "metadata": {},
   "outputs": [],
   "source": [
    "#https://stackoverflow.com/questions/3881453/numpy-add-row-to-array\n",
    "#https://stackoverflow.com/questions/8486294/how-do-i-add-an-extra-column-to-a-numpy-array\n",
    "#https://numpy.org/doc/stable/reference/generated/numpy.hstack.html"
   ]
  },
  {
   "cell_type": "code",
   "execution_count": 9,
   "metadata": {},
   "outputs": [],
   "source": [
    "def broadcast_add(p, q, method=\"row-wise\"):\n",
    "    \"\"\"\n",
    "    Perform addition between two NumPy arrays using broadcasting and the specified method.\n",
    "\n",
    "    Parameters:\n",
    "    - p (numpy.ndarray): First input NumPy array.\n",
    "    - q (numpy.ndarray): Second input NumPy array.\n",
    "    - method (str, optional): The addition method to use. Defaults to \"row-wise\".\n",
    "        - \"row-wise\": Perform row-wise addition, broadcasting q to match the number of rows in p.\n",
    "        - \"column-wise\": Perform column-wise addition, adding q to each column of p.\n",
    "\n",
    "    Returns:\n",
    "    - numpy.ndarray: The result of the addition operation based on the chosen method.\n",
    "    \n",
    "    Raises:\n",
    "    - ValueError: If an invalid method is provided or if the shapes are incompatible for the chosen method.\n",
    "    \"\"\"\n",
    "    # ------------\n",
    "    # FILL THIS IN\n",
    "    if method == \"row-wise\":\n",
    "        result = np.vstack((p, q))\n",
    "    elif method == \"column-wise\":\n",
    "        q = q.reshape(q.size, 1)\n",
    "        result = np.hstack((p, q))\n",
    "    else:\n",
    "        result = \"Invalid method input\"\n",
    "    # ------------\n",
    "    \n",
    "    return result"
   ]
  },
  {
   "cell_type": "code",
   "execution_count": 10,
   "metadata": {},
   "outputs": [
    {
     "name": "stdout",
     "output_type": "stream",
     "text": [
      "Row-wise addition:\n",
      "[[ 1  2  3]\n",
      " [ 4  5  6]\n",
      " [ 7  8  9]\n",
      " [10 20 30]]\n",
      "\n",
      "Column-wise addition:\n",
      "[[ 1  2  3 10]\n",
      " [ 4  5  6 20]\n",
      " [ 7  8  9 30]]\n"
     ]
    }
   ],
   "source": [
    "# Example usage with different-shaped arrays\n",
    "p = np.array([[1, 2, 3], [4, 5, 6], [7, 8, 9]])\n",
    "q = np.array([10, 20, 30])\n",
    "\n",
    "# Add q row-wise to p\n",
    "row_wise_result = broadcast_add(p, q, method=\"row-wise\")\n",
    "print(\"Row-wise addition:\")\n",
    "print(row_wise_result)\n",
    "\n",
    "# Add q column-wise to p\n",
    "column_wise_result = broadcast_add(p, q, method=\"column-wise\")\n",
    "print(\"\\nColumn-wise addition:\")\n",
    "print(column_wise_result)"
   ]
  },
  {
   "cell_type": "markdown",
   "metadata": {},
   "source": [
    "# Q4"
   ]
  },
  {
   "cell_type": "code",
   "execution_count": 11,
   "metadata": {},
   "outputs": [],
   "source": [
    "#https://www.tutorialspoint.com/how-to-normalize-a-numpy-array-so-the-values-range-exactly-between-0-and-1#:~:text=For%20example%2C%20if%20we%20have,values%20between%200%20and%201."
   ]
  },
  {
   "cell_type": "code",
   "execution_count": 12,
   "metadata": {},
   "outputs": [
    {
     "name": "stdout",
     "output_type": "stream",
     "text": [
      "Original Array:\n",
      "[[ 8  5  4 10]\n",
      " [ 6  7  6  1]\n",
      " [ 5  2  2  9]\n",
      " [ 9 10  4  4]]\n",
      "After normalization:\n",
      "[[0.77777778 0.44444444 0.33333333 1.        ]\n",
      " [0.55555556 0.66666667 0.55555556 0.        ]\n",
      " [0.44444444 0.11111111 0.11111111 0.88888889]\n",
      " [0.88888889 1.         0.33333333 0.33333333]]\n"
     ]
    }
   ],
   "source": [
    "# Initialize the random matrix\n",
    "x = np.random.randint(1, 11, size=(4, 4))\n",
    "\n",
    "print(\"Original Array:\")\n",
    "print(x)\n",
    "\n",
    "# Do the normalization\n",
    "arr_min, arr_max = np.min(x), np.max(x)\n",
    "x = (x - arr_min) / (arr_max - arr_min)\n",
    "# x = np.round_(x, decimals=2)\n",
    "\n",
    "print(\"After normalization:\")\n",
    "print(x)"
   ]
  },
  {
   "cell_type": "markdown",
   "metadata": {},
   "source": [
    "# Q5"
   ]
  },
  {
   "cell_type": "code",
   "execution_count": 13,
   "metadata": {},
   "outputs": [],
   "source": [
    "#https://stackoverflow.com/questions/15741759/find-maximum-value-of-a-column-and-return-the-corresponding-row-values-using-pan\n",
    "#https://stackoverflow.com/questions/23142967/adding-a-column-thats-result-of-difference-in-consecutive-rows-in-pandas\n",
    "#https://www.javatpoint.com/numpy-std#:~:text=The%20numpy%20module%20of%20Python,known%20as%20the%20standard%20deviation.\n",
    "#"
   ]
  },
  {
   "cell_type": "code",
   "execution_count": 14,
   "metadata": {},
   "outputs": [
    {
     "name": "stdout",
     "output_type": "stream",
     "text": [
      "Daily efficiency:\n",
      "0     -0.002145\n",
      "1      0.013911\n",
      "2      0.010884\n",
      "3     -0.024109\n",
      "4      0.013518\n",
      "         ...   \n",
      "358    0.006720\n",
      "359   -0.015886\n",
      "360    0.008170\n",
      "361    0.006454\n",
      "362   -0.011010\n",
      "Name: Closing Price, Length: 363, dtype: float64\n",
      "Average daily efficiency:\n",
      "0.0005548260008486608\n",
      "Deviation:\n",
      "0.009442945103460247\n"
     ]
    },
    {
     "data": {
      "image/png": "[encoded data removed]",
      "text/plain": [
       "<Figure size 640x480 with 1 Axes>"
      ]
     },
     "metadata": {},
     "output_type": "display_data"
    },
    {
     "data": {
      "image/png": "[encoded data removed]",
      "text/plain": [
       "<Figure size 640x480 with 1 Axes>"
      ]
     },
     "metadata": {},
     "output_type": "display_data"
    },
    {
     "name": "stdout",
     "output_type": "stream",
     "text": [
      "Max daily efficiency:  11/9/2023\n",
      "Min daily efficiency:  4/16/2023\n",
      "Maximum:\n",
      "Date:  11/29/2023 , Price:  124.6180108\n",
      "Minimum:\n",
      "Date:  4/16/2023 , Price:  82.96821012\n"
     ]
    }
   ],
   "source": [
    "import matplotlib.pyplot as plt\n",
    "import pandas as pd\n",
    "\n",
    "# You should write your code here and print or plot the required data asked in homework documentation\n",
    "data = pd.read_csv('data.csv')\n",
    "#1\n",
    "diff = data[\"Closing Price\"].diff(1)\n",
    "# print(diff.shift(-1)[:-1])\n",
    "# print(data[\"Closing Price\"][:-1])\n",
    "daily_efficiency = diff.shift(-1)[:-1] / data[\"Closing Price\"][:-1]\n",
    "print(\"Daily efficiency:\")\n",
    "print(daily_efficiency)\n",
    "\n",
    "#2\n",
    "print(\"Average daily efficiency:\")\n",
    "avg = daily_efficiency.mean()\n",
    "print(avg)\n",
    "\n",
    "#3\n",
    "deviation = np.std(daily_efficiency)\n",
    "print(\"Deviation:\")\n",
    "print(deviation)\n",
    "\n",
    "#4\n",
    "plt.plot(data['Date'], data['Closing Price'])\n",
    "plt.xlabel(\"Date\")\n",
    "plt.ylabel(\"Closing Price\")\n",
    "plt.show()\n",
    "\n",
    "#5\n",
    "plt.plot(data[\"Date\"][1:], daily_efficiency)\n",
    "plt.xlabel(\"Date\")\n",
    "plt.ylabel(\"Daily efficiency\")\n",
    "plt.show()\n",
    "\n",
    "#6\n",
    "max_idx = daily_efficiency.idxmax()\n",
    "min_idx = daily_efficiency.idxmin()\n",
    "print(\"Max daily efficiency: \", data[\"Date\"][max_idx+1])\n",
    "print(\"Min daily efficiency: \", data[\"Date\"][min_idx+1])\n",
    "\n",
    "#7\n",
    "max_price = data[data['Closing Price'] == data['Closing Price'].max()]\n",
    "min_price = data[data['Closing Price'] == data['Closing Price'].min()]\n",
    "print(\"Maximum:\")\n",
    "print(\"Date: \", max_price.values[0, 0], \", Price: \", max_price.values[0, 1])\n",
    "print(\"Minimum:\")\n",
    "print(\"Date: \", min_price.values[0, 0], \", Price: \", min_price.values[0, 1])"
   ]
  },
  {
   "cell_type": "markdown",
   "metadata": {},
   "source": [
    "# Q6"
   ]
  },
  {
   "cell_type": "code",
   "execution_count": 15,
   "metadata": {},
   "outputs": [],
   "source": [
    "def for_loop_feed_forward(X, w):\n",
    "    \"\"\"\n",
    "    Perform a feed-forward operation using a for loop.\n",
    "\n",
    "    Parameters:\n",
    "    - X (numpy.ndarray): Input data matrix of shape (num_samples, num_features).\n",
    "    - w (numpy.ndarray): Weight matrix of shape (num_features, 1).\n",
    "\n",
    "    Returns:\n",
    "    - numpy.ndarray: Output matrix of shape (num_samples, 1).\n",
    "    \"\"\"\n",
    "    # ------------\n",
    "    # FILL THIS IN\n",
    "    outputs = np.zeros((len(X), 1))\n",
    "    for i in range(len(X)):\n",
    "        outputs[i, 0] = np.sum(X[i, :] * w[:, 0])\n",
    "    # ------------\n",
    "    # print(outputs)\n",
    "    return outputs\n",
    "\n",
    "def vectorized_feed_forward(X, w):\n",
    "    \"\"\"\n",
    "    Perform a feed-forward operation using vectorization.\n",
    "\n",
    "    Parameters:\n",
    "    - X (numpy.ndarray): Input data matrix of shape (num_samples, num_features).\n",
    "    - w (numpy.ndarray): Weight matrix of shape (num_features, 1).\n",
    "\n",
    "    Returns:\n",
    "    - numpy.ndarray: Output matrix of shape (num_samples, 1).\n",
    "    \"\"\"\n",
    "    # ------------\n",
    "    # FILL THIS IN\n",
    "    outputs = np.matmul(X, w)\n",
    "    # print(outputs)\n",
    "    # ------------\n",
    "\n",
    "    return outputs"
   ]
  },
  {
   "cell_type": "code",
   "execution_count": 16,
   "metadata": {},
   "outputs": [
    {
     "name": "stdout",
     "output_type": "stream",
     "text": [
      "Time spent on calculating the outputs using for loops: \n",
      "0.011553764343261719\n",
      "Time spent on calculating the outputs using vectorization: \n",
      "0.0009176731109619141\n"
     ]
    }
   ],
   "source": [
    "import time\n",
    "\n",
    "# generate random samples\n",
    "\n",
    "X = np.random.randint(-10, 10, size=(1000, 500))\n",
    "w = np.random.randint(-2, 2, size=(500, 1))\n",
    "\n",
    "\n",
    "start_time = time.time()\n",
    "outputs = for_loop_feed_forward(X, w)\n",
    "\n",
    "print(\"Time spent on calculating the outputs using for loops: \")\n",
    "print(time.time() - start_time)\n",
    "\n",
    "start_time = time.time()\n",
    "outputs = vectorized_feed_forward(X, w)\n",
    "\n",
    "print(\"Time spent on calculating the outputs using vectorization: \")\n",
    "print(time.time() - start_time)"
   ]
  },
  {
   "cell_type": "markdown",
   "metadata": {},
   "source": [
    "# Q7"
   ]
  },
  {
   "cell_type": "code",
   "execution_count": 17,
   "metadata": {},
   "outputs": [],
   "source": [
    "#https://stackoverflow.com/questions/28430904/set-numpy-array-elements-to-zero-if-they-are-above-a-specific-threshold"
   ]
  },
  {
   "cell_type": "code",
   "execution_count": 18,
   "metadata": {},
   "outputs": [],
   "source": [
    "def replace_elements_above_threshold(array, threshold):\n",
    "    \"\"\"\n",
    "    Replace elements in a NumPy array that are higher than the given threshold with a specified value.\n",
    "\n",
    "    Parameters:\n",
    "    - array (numpy.ndarray): Input NumPy array.\n",
    "    - threshold (float): Threshold value to compare elements with.\n",
    "\n",
    "    Returns:\n",
    "    - numpy.ndarray: NumPy array with elements replaced above the threshold.\n",
    "    \"\"\"\n",
    "    # ------------\n",
    "    # FILL THIS IN\n",
    "    modified_arr = np.where(array <= threshold, 0, 1)\n",
    "    # ------------\n",
    "\n",
    "    return modified_arr"
   ]
  },
  {
   "cell_type": "code",
   "execution_count": 19,
   "metadata": {},
   "outputs": [
    {
     "name": "stdout",
     "output_type": "stream",
     "text": [
      "[[0 0 0]\n",
      " [0 0 1]\n",
      " [1 1 1]]\n"
     ]
    }
   ],
   "source": [
    "input_array = np.array([[1, 2, 3], [4, 5, 6], [7, 8, 9]])\n",
    "threshold_value = 5\n",
    "result_array = replace_elements_above_threshold(input_array, threshold_value)\n",
    "print(result_array)"
   ]
  },
  {
   "cell_type": "markdown",
   "metadata": {},
   "source": [
    "# Q8"
   ]
  },
  {
   "cell_type": "code",
   "execution_count": 20,
   "metadata": {},
   "outputs": [],
   "source": [
    "#https://stackoverflow.com/questions/18449360/access-item-in-a-list-of-lists\n",
    "#https://blog.enterprisedna.co/python-list-of-lists-the-ultimate-guide-2023/#:~:text=To%20create%20a%20list%20of,loops%2C%20or%20organizing%20hierarchical%20data.\n",
    "#https://stackoverflow.com/questions/31391061/python-how-do-i-multiply-and-sum-elements-across-two-lists-without-using-a-lib\n",
    "#https://stackoverflow.com/questions/15650538/sub-matrix-of-a-list-of-lists-without-numpy"
   ]
  },
  {
   "cell_type": "code",
   "execution_count": 37,
   "metadata": {},
   "outputs": [],
   "source": [
    "class Matrix:\n",
    "    def __init__(self, matrix):\n",
    "        \"\"\"\n",
    "        Initialize a Matrix object with a given list of lists.\n",
    "\n",
    "        Parameters:\n",
    "        - matrix (list of lists): Input list of lists representing the matrix.\n",
    "        \"\"\"\n",
    "        # ------------\n",
    "        # FILL THIS IN\n",
    "        self.matrix = matrix\n",
    "        # ------------\n",
    "\n",
    "    def is_equal(self, second_matrix):\n",
    "        \"\"\"\n",
    "        Check if this Matrix object is equal to another Matrix object.\n",
    "\n",
    "        Parameters:\n",
    "        - second_matrix (Matrix): Another Matrix object for comparison.\n",
    "\n",
    "        Returns:\n",
    "        - bool: True if the matrices are equal, False otherwise.\n",
    "        \"\"\"\n",
    "        # ------------\n",
    "        # FILL THIS IN\n",
    "        if self.matrix != second_matrix:\n",
    "            print(\"False\")\n",
    "        else:\n",
    "            print(\"True\")\n",
    "        # ------------\n",
    "\n",
    "    def is_higher_elementwise(self, second_matrix):\n",
    "        \"\"\"\n",
    "        Check if this Matrix object has higher values element-wise compared to another Matrix object.\n",
    "\n",
    "        Parameters:\n",
    "        - second_matrix (Matrix): Another Matrix object for comparison.\n",
    "\n",
    "        Returns:\n",
    "        - Matrix: Matrix same shape of the input.\n",
    "        \"\"\"\n",
    "        # ------------\n",
    "        # FILL THIS IN\n",
    "        output = [[\"False\"] * len(self.matrix) for _ in range(len(self.matrix[0]))]\n",
    "        for i in range(len(self.matrix)):\n",
    "            for j in range(len(self.matrix[0])):\n",
    "                if self.matrix[i][j] >= second_matrix[i][j]:\n",
    "                    output[i][j] = \"True\"\n",
    "                # else:\n",
    "                #     output[i][j] = \"False\"\n",
    "        print(output)\n",
    "        # ------------\n",
    "    \n",
    "    def is_subset(self, second_matrix):\n",
    "        \"\"\"\n",
    "        Check if this Matrix object is a subset of another Matrix object.\n",
    "\n",
    "        Parameters:\n",
    "        - second_matrix (Matrix): Another Matrix object for comparison.\n",
    "\n",
    "        Returns:\n",
    "        - bool: True if this matrix is a subset of 'second_matrix', False otherwise.\n",
    "        \"\"\"\n",
    "        # ------------\n",
    "        # FILL THIS IN\n",
    "        matrix_dimension = (len(self.matrix), len(self.matrix[0]))\n",
    "        numOfRow = len(second_matrix) - len(self.matrix)\n",
    "        numOfCol = len(second_matrix[0]) - len(self.matrix[0])\n",
    "        flag = False\n",
    "        for i in range(numOfRow+1):\n",
    "            for j in range(numOfCol+1):\n",
    "                submatrix = [rows[j: j+matrix_dimension[1]] for rows in second_matrix[i: i+matrix_dimension[0]]]\n",
    "                # submatrix = self.matrix[i: i+matrix_dimension[0]-1][j: j+matrix_dimension[1]-1]\n",
    "                if submatrix == self.matrix:\n",
    "                    flag = True\n",
    "        if flag:\n",
    "            print(\"True\")\n",
    "        else: \n",
    "            print(\"False\")\n",
    "        # ------------\n",
    "\n",
    "    def dot_product(self, second_matrix):\n",
    "        \"\"\"\n",
    "        Calculate the dot product between this Matrix object and another Matrix object.\n",
    "\n",
    "        Parameters:\n",
    "        - second_matrix (Matrix): Another Matrix object for the dot product.\n",
    "\n",
    "        Returns:\n",
    "        - Matrix: The result of the dot product as a numpy.ndarray.\n",
    "        \"\"\"\n",
    "        # ------------\n",
    "        # FILL THIS IN\n",
    "        output = [[0] * len(second_matrix[0]) for _ in range(len(self.matrix))]\n",
    "        for i in range(len(self.matrix)):\n",
    "            for j in range(len(second_matrix[0])):\n",
    "                row = [row[j] for row in second_matrix]\n",
    "                tuples = zip(self.matrix[i][:], row)\n",
    "                output[i][j] = sum(x * y for x, y in tuples)\n",
    "        # ------------\n",
    "        # print(outputs)\n",
    "        return output\n",
    "        # ------------"
   ]
  },
  {
   "cell_type": "code",
   "execution_count": 38,
   "metadata": {},
   "outputs": [
    {
     "name": "stdout",
     "output_type": "stream",
     "text": [
      "False\n"
     ]
    }
   ],
   "source": [
    "matrix1 = Matrix([[1, 2, 3], [4, 5, 6], [7, 8, 9]])\n",
    "\n",
    "matrix2 = Matrix([[0, 0, 0], [4, 5, 6], [7, 8, 9]])\n",
    "\n",
    "# test equality of matrices here and show the result #\n",
    "matrix1.is_equal(matrix2.matrix)\n"
   ]
  },
  {
   "cell_type": "code",
   "execution_count": 33,
   "metadata": {},
   "outputs": [
    {
     "name": "stdout",
     "output_type": "stream",
     "text": [
      "[['True', 'True', 'True'], ['False', 'False', 'False'], ['True', 'True', 'False']]\n"
     ]
    }
   ],
   "source": [
    "matrix3 = Matrix([[0, 0, 0], [10, 20, 30], [-1, 8, 10]])\n",
    "\n",
    "# test proportion of matrices here and show the result #\n",
    "matrix1.is_higher_elementwise(matrix3.matrix)\n"
   ]
  },
  {
   "cell_type": "code",
   "execution_count": 39,
   "metadata": {},
   "outputs": [
    {
     "name": "stdout",
     "output_type": "stream",
     "text": [
      "True\n",
      "True\n",
      "False\n"
     ]
    }
   ],
   "source": [
    "matrix4 = Matrix([[5, 6], [8, 9]])\n",
    "matrix5 = Matrix([[1, 2], [4, 5]])\n",
    "matrix6 = Matrix([[1, 2], [3, 4]])\n",
    "\n",
    "\n",
    "# test subset of matrices here and show the result #\n",
    "matrix4.is_subset(matrix1.matrix)\n",
    "matrix5.is_subset(matrix1.matrix)\n",
    "matrix6.is_subset(matrix1.matrix)"
   ]
  },
  {
   "cell_type": "code",
   "execution_count": 25,
   "metadata": {},
   "outputs": [
    {
     "name": "stdout",
     "output_type": "stream",
     "text": [
      "[[11, 7], [14, 18], [7, 19]]\n"
     ]
    }
   ],
   "source": [
    "matrix7 = Matrix([[3, 1], [2, 4], [-1, 5]])\n",
    "matrix8 = Matrix([[3, 1], [2, 4]])\n",
    "\n",
    "# test product of matrices here and show the result #\n",
    "output = matrix7.dot_product(matrix8.matrix)\n",
    "print(output)"
   ]
  }
 ],
 "metadata": {
  "kernelspec": {
   "display_name": "Python 3",
   "language": "python",
   "name": "python3"
  },
  "language_info": {
   "codemirror_mode": {
    "name": "ipython",
    "version": 3
   },
   "file_extension": ".py",
   "mimetype": "text/x-python",
   "name": "python",
   "nbconvert_exporter": "python",
   "pygments_lexer": "ipython3",
   "version": "3.11.2"
  },
  "orig_nbformat": 4
 },
 "nbformat": 4,
 "nbformat_minor": 2
}
